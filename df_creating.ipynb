{
 "cells": [
  {
   "cell_type": "code",
   "execution_count": 1,
   "metadata": {},
   "outputs": [],
   "source": [
    "import sqlite3\n",
    "import pandas as pd"
   ]
  },
  {
   "cell_type": "code",
   "execution_count": 2,
   "metadata": {},
   "outputs": [],
   "source": [
    "# Connect to the SQLite database\n",
    "conn = sqlite3.connect('atwork_data.sqlite')"
   ]
  },
  {
   "cell_type": "code",
   "execution_count": 3,
   "metadata": {},
   "outputs": [],
   "source": [
    "# read the csv data into a dataframe\n",
    "#df = pd.read_csv('artwork_data.csv')"
   ]
  },
  {
   "cell_type": "code",
   "execution_count": 4,
   "metadata": {},
   "outputs": [],
   "source": [
    "# send it to the database\n",
    "#df.to_sql('artwork_data', conn, index=False, if_exists='replace', dtype={'id': 'INTEGER PRIMARY KEY'})"
   ]
  },
  {
   "cell_type": "code",
   "execution_count": 5,
   "metadata": {},
   "outputs": [],
   "source": [
    "# Read data from a specific table into a pandas DataFrame\n",
    "table_name = 'artwork_data'\n",
    "artworks_df = pd.read_sql_query(f\"SELECT * FROM {table_name};\", conn)"
   ]
  },
  {
   "cell_type": "code",
   "execution_count": 6,
   "metadata": {},
   "outputs": [],
   "source": [
    "# Close the connection\n",
    "conn.close()"
   ]
  },
  {
   "cell_type": "code",
   "execution_count": 7,
   "metadata": {},
   "outputs": [
    {
     "data": {
      "text/html": [
       "<div>\n",
       "<style scoped>\n",
       "    .dataframe tbody tr th:only-of-type {\n",
       "        vertical-align: middle;\n",
       "    }\n",
       "\n",
       "    .dataframe tbody tr th {\n",
       "        vertical-align: top;\n",
       "    }\n",
       "\n",
       "    .dataframe thead th {\n",
       "        text-align: right;\n",
       "    }\n",
       "</style>\n",
       "<table border=\"1\" class=\"dataframe\">\n",
       "  <thead>\n",
       "    <tr style=\"text-align: right;\">\n",
       "      <th></th>\n",
       "      <th>artwork_id</th>\n",
       "      <th>artist_name</th>\n",
       "      <th>title</th>\n",
       "      <th>exhibition_history</th>\n",
       "      <th>is_on_view</th>\n",
       "      <th>date</th>\n",
       "      <th>category_titles</th>\n",
       "      <th>artwork_type_title</th>\n",
       "    </tr>\n",
       "  </thead>\n",
       "  <tbody>\n",
       "    <tr>\n",
       "      <th>0</th>\n",
       "      <td>186803</td>\n",
       "      <td>Michael Mazur\\nAmerican, 1935-2009</td>\n",
       "      <td>Self-Portrait</td>\n",
       "      <td>None</td>\n",
       "      <td>0</td>\n",
       "      <td>1986</td>\n",
       "      <td>Prints and Drawings</td>\n",
       "      <td>Drawing and Watercolor</td>\n",
       "    </tr>\n",
       "    <tr>\n",
       "      <th>1</th>\n",
       "      <td>56658</td>\n",
       "      <td>Perugia, Italy</td>\n",
       "      <td>Towel</td>\n",
       "      <td>Art Institute of Chicago, Masterpieces of West...</td>\n",
       "      <td>0</td>\n",
       "      <td>15th century</td>\n",
       "      <td>Textiles</td>\n",
       "      <td>Textile</td>\n",
       "    </tr>\n",
       "    <tr>\n",
       "      <th>2</th>\n",
       "      <td>31131</td>\n",
       "      <td>Lenore Tawney (American, 1907–2007)\\nUnited St...</td>\n",
       "      <td>Two Forces Meeting and Opposing (Hanging)</td>\n",
       "      <td>Art Institute of Chicago, Selected Textile Acq...</td>\n",
       "      <td>0</td>\n",
       "      <td>1959</td>\n",
       "      <td>Textiles</td>\n",
       "      <td>Textile</td>\n",
       "    </tr>\n",
       "    <tr>\n",
       "      <th>3</th>\n",
       "      <td>93955</td>\n",
       "      <td>Ulla-May Berggren (American, born Sweden, 1935...</td>\n",
       "      <td>Panel (Hanging)</td>\n",
       "      <td>Art Institute of Chicago, Selected Textile Acq...</td>\n",
       "      <td>0</td>\n",
       "      <td>1977</td>\n",
       "      <td>Textiles</td>\n",
       "      <td>Textile</td>\n",
       "    </tr>\n",
       "    <tr>\n",
       "      <th>4</th>\n",
       "      <td>54151</td>\n",
       "      <td>Uzbekistan, Bukhara</td>\n",
       "      <td>Panel</td>\n",
       "      <td>None</td>\n",
       "      <td>0</td>\n",
       "      <td>17th century</td>\n",
       "      <td>Textiles</td>\n",
       "      <td>Textile</td>\n",
       "    </tr>\n",
       "  </tbody>\n",
       "</table>\n",
       "</div>"
      ],
      "text/plain": [
       "   artwork_id                                        artist_name  \\\n",
       "0      186803                 Michael Mazur\\nAmerican, 1935-2009   \n",
       "1       56658                                     Perugia, Italy   \n",
       "2       31131  Lenore Tawney (American, 1907–2007)\\nUnited St...   \n",
       "3       93955  Ulla-May Berggren (American, born Sweden, 1935...   \n",
       "4       54151                                Uzbekistan, Bukhara   \n",
       "\n",
       "                                       title  \\\n",
       "0                              Self-Portrait   \n",
       "1                                      Towel   \n",
       "2  Two Forces Meeting and Opposing (Hanging)   \n",
       "3                            Panel (Hanging)   \n",
       "4                                      Panel   \n",
       "\n",
       "                                  exhibition_history  is_on_view  \\\n",
       "0                                               None           0   \n",
       "1  Art Institute of Chicago, Masterpieces of West...           0   \n",
       "2  Art Institute of Chicago, Selected Textile Acq...           0   \n",
       "3  Art Institute of Chicago, Selected Textile Acq...           0   \n",
       "4                                               None           0   \n",
       "\n",
       "           date      category_titles      artwork_type_title  \n",
       "0          1986  Prints and Drawings  Drawing and Watercolor  \n",
       "1  15th century             Textiles                 Textile  \n",
       "2          1959             Textiles                 Textile  \n",
       "3          1977             Textiles                 Textile  \n",
       "4  17th century             Textiles                 Textile  "
      ]
     },
     "execution_count": 7,
     "metadata": {},
     "output_type": "execute_result"
    }
   ],
   "source": [
    "artworks_df.head()"
   ]
  }
 ],
 "metadata": {
  "kernelspec": {
   "display_name": "dev",
   "language": "python",
   "name": "python3"
  },
  "language_info": {
   "codemirror_mode": {
    "name": "ipython",
    "version": 3
   },
   "file_extension": ".py",
   "mimetype": "text/x-python",
   "name": "python",
   "nbconvert_exporter": "python",
   "pygments_lexer": "ipython3",
   "version": "3.10.13"
  }
 },
 "nbformat": 4,
 "nbformat_minor": 2
}
